{
 "cells": [
  {
   "cell_type": "code",
   "execution_count": 1,
   "metadata": {},
   "outputs": [
    {
     "name": "stderr",
     "output_type": "stream",
     "text": [
      "<ipython-input-1-eecf60652312>:12: FutureWarning: Passing a negative integer is deprecated in version 1.0 and will not be supported in future version. Instead, use None to not limit the column width.\n",
      "  pd.set_option('display.max_colwidth', -1)\n"
     ]
    }
   ],
   "source": [
    "import pandas as pd\n",
    "import numpy as np\n",
    "import psycopg2\n",
    "import seaborn as sns\n",
    "from tqdm import tqdm\n",
    "from sklearn.cluster import DBSCAN\n",
    "import datetime as dt\n",
    "import matplotlib.pyplot as plt\n",
    "import json\n",
    "from gensim.models import Word2Vec\n",
    "\n",
    "pd.set_option('display.max_colwidth', -1)\n",
    "pd.set_option('display.max_columns', 55)\n",
    "pd.set_option('display.max_rows', 200)\n",
    "\n",
    "plt.rcParams['figure.figsize'] = 12, 7"
   ]
  },
  {
   "cell_type": "code",
   "execution_count": 6,
   "metadata": {},
   "outputs": [
    {
     "name": "stdout",
     "output_type": "stream",
     "text": [
      "CPU times: user 19.1 s, sys: 7.39 s, total: 26.5 s\n",
      "Wall time: 1h 49min 37s\n"
     ]
    }
   ],
   "source": [
    "%%time\n",
    "hostname = 'production-backend-db-roreplica-01.c3trjnrdrwyu.eu-central-1.rds.amazonaws.com'\n",
    "hostname = 'production-backend-db-roreplica-01.cy7iayle3ae8.eu-central-1.rds.amazonaws.com'\n",
    "username = 'backend'\n",
    "password = 'owrLKfs67LkfTyis71NfBgdsdf25'\n",
    "database = 'backend'\n",
    "\n",
    "with psycopg2.connect(host=hostname, user=username, password=password, dbname=database) as conn:\n",
    "    with conn.cursor() as cursor:        \n",
    "        query = \"\"\"\n",
    "select \n",
    "user_dates.user_id,\n",
    "user_dates.created_at,\n",
    "events.created_at as event_time,\n",
    "events.action,\n",
    "events.theta,\n",
    "user_dates.label\n",
    "from (\n",
    "    select user_id,\n",
    "    case\n",
    "        when extract(day from max_created_at - med_created_at)::int >= 14 then med_created_at\n",
    "        when max_created_at <= '2020-11-01'::date and extract(day from max_created_at - pd_created_at)::int <= extract(day from max_created_at - min_created_at)::int / 8 then max_created_at\n",
    "    end as created_at,\n",
    "    case\n",
    "        when extract(day from max_created_at - med_created_at)::int >= 14 then 0\n",
    "        when max_created_at <= '2020-11-01'::date and extract(day from max_created_at - pd_created_at)::int <= extract(day from max_created_at - min_created_at)::int / 8 then 1\n",
    "    end as label\n",
    "    from (\n",
    "        select user_id,\n",
    "        min(created_at) as min_created_at,\n",
    "        percentile_disc(0.5) within group (order by created_at) as med_created_at,        \n",
    "        percentile_disc(0.9) within group (order by created_at) as pd_created_at,\n",
    "        max(created_at) as max_created_at\n",
    "        from (select * from adjust_events where created_at between {0} and {1}) as ae\n",
    "        join adjust_users as au on au.adid = ae.adid\n",
    "        and activity_kind = 'session'\n",
    "        group by user_id\n",
    "    ) as foo\n",
    ") as user_dates\n",
    "\n",
    "left join (\n",
    "    select user_id,\n",
    "    u.created_at,\n",
    "    'registration' as action,\n",
    "    a.eyeball as theta\n",
    "    from users as u\n",
    "    left join accounts as a on a.user_id = u.id\n",
    "\n",
    "    union all\n",
    "    \n",
    "    select user_id,\n",
    "    d.created_at,\n",
    "    'donation' as action,\n",
    "    d.amount_cents as theta\n",
    "    from donations as d\n",
    "    join user_wallets as uw on uw.id = d.wallet_id\n",
    "    \n",
    "    union all\n",
    "\n",
    "    select cv.user_id,\n",
    "    cv.created_at,\n",
    "    case\n",
    "        when slot = 'instagram_story' and offer_cents is not null then 'paid_story_view'\n",
    "        when slot = 'instagram_feed' and offer_cents is not null then 'paid_feed_view'\n",
    "        when slot = 'instagram_story' and offer_cents is null then 'non_paid_story_view'\n",
    "        when slot = 'instagram_feed' and offer_cents is null then 'non_paid_feed_view'\n",
    "    end as action,\n",
    "    offer_cents / nullif(eyeball, 0) * 1000 as theta\n",
    "    from campaign_views as cv\n",
    "    left join accounts as a on a.user_id = cv.user_id\n",
    "    where cv.created_at between {0}::date - interval '{2} day' and {1}\n",
    "    \n",
    "    union all\n",
    "\n",
    "    select au.user_id,\n",
    "    created_at,\n",
    "    case\n",
    "        when activity_kind = 'session' then 'session'\n",
    "        else event_name\n",
    "    end as action,\n",
    "    null as theta\n",
    "    from adjust_events as ae\n",
    "    join adjust_users as au on au.adid = ae.adid\n",
    "    where ae.created_at between {0}::date - interval '{2} day' and {1}\n",
    "    and event_name not in ('campaign_view', 'deal_post_inst', 'deal_post') \n",
    "    or activity_kind = 'session'\n",
    "    \n",
    "    union all\n",
    "    \n",
    "    select \n",
    "    a.user_id,\n",
    "    p.created_at,\n",
    "    case\n",
    "        when variant_type = 1 then 'participation_feed'\n",
    "        when variant_type = 2 then 'participation_story'\n",
    "    end as action,\n",
    "    e.amount_cents as theta\n",
    "    from accounts as a\n",
    "    join participations as p on p.account_id = a.id\n",
    "    left join earnings as e on e.participation_id = p.id\n",
    "    where a.provider_type = 4\n",
    "    \n",
    "    union all\n",
    "    \n",
    "    select user_id,\n",
    "    created_at,\n",
    "    'cpa_participation' as action,\n",
    "    viewed_earning_cents as theta\n",
    "    from cpa_participations\n",
    "    \n",
    "    union all\n",
    "    \n",
    "    select user_id,\n",
    "    wt.created_at,\n",
    "    'withdraw' as action,\n",
    "    amount_cents as theta\n",
    "    from withdraw_transactions as wt\n",
    "    join withdraw_accounts as wa on wa.id = wt.withdraw_account_id\n",
    "    \n",
    "    union all\n",
    "    \n",
    "    select rr.parent_user_id as user_id,\n",
    "    rr.created_at,\n",
    "    'referral_made' as action,\n",
    "    amount_cents as theta\n",
    "    from referral_relations as rr\n",
    "    left join referral_earnings as re \n",
    "    on re.referral_relation_id = rr.id and currency = 'RUB'\n",
    "    \n",
    "    union all\n",
    "    \n",
    "    select user_id,\n",
    "    created_at,\n",
    "    'magazine_view' as action,\n",
    "    null as theta\n",
    "    from magazine_users\n",
    "    \n",
    ") as events on events.user_id = user_dates.user_id\n",
    "and events.created_at between user_dates.created_at - interval '{2} day' and user_dates.created_at\n",
    "order by user_id, created_at\n",
    "\"\"\".format(\"'2020-07-01'\", \"'2020-12-01'\", 10)\n",
    "        \n",
    "        # where wt.status = 2 -- success\n",
    "        \n",
    "        query1 = \"\"\"\n",
    "        select user_id,\n",
    "        case\n",
    "            when extract(day from max_created_at - med_created_at)::int >= 14 then med_created_at\n",
    "            when max_created_at <= '2020-11-01'::date and extract(day from max_created_at - pd_created_at)::int <= extract(day from max_created_at - min_created_at)::int / 8 then max_created_at\n",
    "        end as created_at,\n",
    "        case\n",
    "            when extract(day from max_created_at - med_created_at)::int >= 14 then 0\n",
    "            when max_created_at <= '2020-11-01'::date and extract(day from max_created_at - pd_created_at)::int <= extract(day from max_created_at - min_created_at)::int / 8 then 1\n",
    "        end as label\n",
    "        from (\n",
    "            select user_id,\n",
    "            min(created_at) as min_created_at,\n",
    "            percentile_disc(0.5) within group (order by created_at) as med_created_at,        \n",
    "            percentile_disc(0.9) within group (order by created_at) as pd_created_at,\n",
    "            max(created_at) as max_created_at\n",
    "            from (select * from adjust_events where created_at between '2020-06-01' and '2020-10-31') as ae\n",
    "            join adjust_users as au on au.adid = ae.adid\n",
    "            and activity_kind = 'session'\n",
    "            group by user_id\n",
    "        ) as foo\n",
    "        \"\"\"\n",
    "        \n",
    "        cursor.execute(query)\n",
    "        results = cursor.fetchall()\n",
    "        \n",
    "#where created_at between {0}::date - interval '15 day' and {1}\n"
   ]
  },
  {
   "cell_type": "code",
   "execution_count": 15,
   "metadata": {},
   "outputs": [
    {
     "name": "stdout",
     "output_type": "stream",
     "text": [
      "(6188914, 6)\n"
     ]
    },
    {
     "data": {
      "text/html": [
       "<div>\n",
       "<style scoped>\n",
       "    .dataframe tbody tr th:only-of-type {\n",
       "        vertical-align: middle;\n",
       "    }\n",
       "\n",
       "    .dataframe tbody tr th {\n",
       "        vertical-align: top;\n",
       "    }\n",
       "\n",
       "    .dataframe thead th {\n",
       "        text-align: right;\n",
       "    }\n",
       "</style>\n",
       "<table border=\"1\" class=\"dataframe\">\n",
       "  <thead>\n",
       "    <tr style=\"text-align: right;\">\n",
       "      <th></th>\n",
       "      <th>user_id</th>\n",
       "      <th>created_at</th>\n",
       "      <th>event_time</th>\n",
       "      <th>action</th>\n",
       "      <th>theta</th>\n",
       "      <th>label</th>\n",
       "    </tr>\n",
       "  </thead>\n",
       "  <tbody>\n",
       "    <tr>\n",
       "      <th>0</th>\n",
       "      <td>14</td>\n",
       "      <td>2020-09-21 20:57:06.025613</td>\n",
       "      <td>2020-09-14 18:56:54.933907</td>\n",
       "      <td>session</td>\n",
       "      <td>NaN</td>\n",
       "      <td>0.0</td>\n",
       "    </tr>\n",
       "    <tr>\n",
       "      <th>1</th>\n",
       "      <td>14</td>\n",
       "      <td>2020-09-21 20:57:06.025613</td>\n",
       "      <td>2020-09-14 18:56:59.276285</td>\n",
       "      <td>paid_feed_view</td>\n",
       "      <td>22000.0</td>\n",
       "      <td>0.0</td>\n",
       "    </tr>\n",
       "    <tr>\n",
       "      <th>2</th>\n",
       "      <td>14</td>\n",
       "      <td>2020-09-21 20:57:06.025613</td>\n",
       "      <td>2020-09-14 18:56:59.276285</td>\n",
       "      <td>paid_feed_view</td>\n",
       "      <td>19000.0</td>\n",
       "      <td>0.0</td>\n",
       "    </tr>\n",
       "    <tr>\n",
       "      <th>3</th>\n",
       "      <td>14</td>\n",
       "      <td>2020-09-21 20:57:06.025613</td>\n",
       "      <td>2020-09-14 18:56:59.276285</td>\n",
       "      <td>paid_feed_view</td>\n",
       "      <td>0.0</td>\n",
       "      <td>0.0</td>\n",
       "    </tr>\n",
       "    <tr>\n",
       "      <th>4</th>\n",
       "      <td>14</td>\n",
       "      <td>2020-09-21 20:57:06.025613</td>\n",
       "      <td>2020-09-14 18:57:00.782144</td>\n",
       "      <td>non_paid_feed_view</td>\n",
       "      <td>NaN</td>\n",
       "      <td>0.0</td>\n",
       "    </tr>\n",
       "  </tbody>\n",
       "</table>\n",
       "</div>"
      ],
      "text/plain": [
       "   user_id                 created_at                 event_time  \\\n",
       "0  14      2020-09-21 20:57:06.025613 2020-09-14 18:56:54.933907   \n",
       "1  14      2020-09-21 20:57:06.025613 2020-09-14 18:56:59.276285   \n",
       "2  14      2020-09-21 20:57:06.025613 2020-09-14 18:56:59.276285   \n",
       "3  14      2020-09-21 20:57:06.025613 2020-09-14 18:56:59.276285   \n",
       "4  14      2020-09-21 20:57:06.025613 2020-09-14 18:57:00.782144   \n",
       "\n",
       "               action    theta  label  \n",
       "0  session            NaN       0.0    \n",
       "1  paid_feed_view      22000.0  0.0    \n",
       "2  paid_feed_view      19000.0  0.0    \n",
       "3  paid_feed_view      0.0      0.0    \n",
       "4  non_paid_feed_view NaN       0.0    "
      ]
     },
     "execution_count": 15,
     "metadata": {},
     "output_type": "execute_result"
    }
   ],
   "source": [
    "df = pd.DataFrame(results, columns=[cursor.description[i][0] for i in range(len(cursor.description))])\n",
    "df = df.drop_duplicates()\n",
    "df.sort_values(by=['user_id', 'event_time'], inplace=True)\n",
    "df.reset_index(drop=True, inplace=True)\n",
    "df.dropna(axis=0, subset=['action'], inplace=True)\n",
    "print(df.shape)\n",
    "df.head()"
   ]
  },
  {
   "cell_type": "code",
   "execution_count": 3,
   "metadata": {},
   "outputs": [
    {
     "data": {
      "text/plain": [
       "0.0    3319673\n",
       "1.0    2869241\n",
       "Name: label, dtype: int64"
      ]
     },
     "execution_count": 3,
     "metadata": {},
     "output_type": "execute_result"
    }
   ],
   "source": [
    "df.label.value_counts()"
   ]
  },
  {
   "cell_type": "code",
   "execution_count": 4,
   "metadata": {},
   "outputs": [
    {
     "data": {
      "text/plain": [
       "True"
      ]
     },
     "execution_count": 4,
     "metadata": {},
     "output_type": "execute_result"
    }
   ],
   "source": [
    "df[['user_id', 'created_at']].drop_duplicates().shape[0] == df[['user_id']].drop_duplicates().shape[0]"
   ]
  },
  {
   "cell_type": "code",
   "execution_count": 5,
   "metadata": {},
   "outputs": [
    {
     "data": {
      "text/plain": [
       "108646"
      ]
     },
     "execution_count": 5,
     "metadata": {},
     "output_type": "execute_result"
    }
   ],
   "source": [
    "df.user_id.nunique()"
   ]
  },
  {
   "cell_type": "code",
   "execution_count": 11,
   "metadata": {},
   "outputs": [],
   "source": [
    "df.to_csv('actions.csv')"
   ]
  },
  {
   "cell_type": "code",
   "execution_count": 2,
   "metadata": {},
   "outputs": [
    {
     "name": "stderr",
     "output_type": "stream",
     "text": [
      "/home/konstantinlipkin/anaconda3/lib/python3.8/site-packages/numpy/lib/arraysetops.py:580: FutureWarning: elementwise comparison failed; returning scalar instead, but in the future will perform elementwise comparison\n",
      "  mask |= (ar1 == a)\n"
     ]
    },
    {
     "name": "stdout",
     "output_type": "stream",
     "text": [
      "(6188914, 6)\n"
     ]
    },
    {
     "data": {
      "text/html": [
       "<div>\n",
       "<style scoped>\n",
       "    .dataframe tbody tr th:only-of-type {\n",
       "        vertical-align: middle;\n",
       "    }\n",
       "\n",
       "    .dataframe tbody tr th {\n",
       "        vertical-align: top;\n",
       "    }\n",
       "\n",
       "    .dataframe thead th {\n",
       "        text-align: right;\n",
       "    }\n",
       "</style>\n",
       "<table border=\"1\" class=\"dataframe\">\n",
       "  <thead>\n",
       "    <tr style=\"text-align: right;\">\n",
       "      <th></th>\n",
       "      <th>user_id</th>\n",
       "      <th>created_at</th>\n",
       "      <th>event_time</th>\n",
       "      <th>action</th>\n",
       "      <th>theta</th>\n",
       "      <th>label</th>\n",
       "    </tr>\n",
       "  </thead>\n",
       "  <tbody>\n",
       "    <tr>\n",
       "      <th>0</th>\n",
       "      <td>14</td>\n",
       "      <td>2020-09-21 20:57:06.025613</td>\n",
       "      <td>2020-09-14 18:56:54.933907</td>\n",
       "      <td>session</td>\n",
       "      <td>NaN</td>\n",
       "      <td>0.0</td>\n",
       "    </tr>\n",
       "    <tr>\n",
       "      <th>1</th>\n",
       "      <td>14</td>\n",
       "      <td>2020-09-21 20:57:06.025613</td>\n",
       "      <td>2020-09-14 18:56:59.276285</td>\n",
       "      <td>paid_feed_view</td>\n",
       "      <td>22000.0</td>\n",
       "      <td>0.0</td>\n",
       "    </tr>\n",
       "    <tr>\n",
       "      <th>2</th>\n",
       "      <td>14</td>\n",
       "      <td>2020-09-21 20:57:06.025613</td>\n",
       "      <td>2020-09-14 18:56:59.276285</td>\n",
       "      <td>paid_feed_view</td>\n",
       "      <td>19000.0</td>\n",
       "      <td>0.0</td>\n",
       "    </tr>\n",
       "    <tr>\n",
       "      <th>3</th>\n",
       "      <td>14</td>\n",
       "      <td>2020-09-21 20:57:06.025613</td>\n",
       "      <td>2020-09-14 18:56:59.276285</td>\n",
       "      <td>paid_feed_view</td>\n",
       "      <td>0.0</td>\n",
       "      <td>0.0</td>\n",
       "    </tr>\n",
       "    <tr>\n",
       "      <th>4</th>\n",
       "      <td>14</td>\n",
       "      <td>2020-09-21 20:57:06.025613</td>\n",
       "      <td>2020-09-14 18:57:00.782144</td>\n",
       "      <td>non_paid_feed_view</td>\n",
       "      <td>NaN</td>\n",
       "      <td>0.0</td>\n",
       "    </tr>\n",
       "  </tbody>\n",
       "</table>\n",
       "</div>"
      ],
      "text/plain": [
       "   user_id                  created_at                  event_time  \\\n",
       "0  14       2020-09-21 20:57:06.025613  2020-09-14 18:56:54.933907   \n",
       "1  14       2020-09-21 20:57:06.025613  2020-09-14 18:56:59.276285   \n",
       "2  14       2020-09-21 20:57:06.025613  2020-09-14 18:56:59.276285   \n",
       "3  14       2020-09-21 20:57:06.025613  2020-09-14 18:56:59.276285   \n",
       "4  14       2020-09-21 20:57:06.025613  2020-09-14 18:57:00.782144   \n",
       "\n",
       "               action    theta  label  \n",
       "0  session            NaN       0.0    \n",
       "1  paid_feed_view      22000.0  0.0    \n",
       "2  paid_feed_view      19000.0  0.0    \n",
       "3  paid_feed_view      0.0      0.0    \n",
       "4  non_paid_feed_view NaN       0.0    "
      ]
     },
     "execution_count": 2,
     "metadata": {},
     "output_type": "execute_result"
    }
   ],
   "source": [
    "df = pd.read_csv('actions.csv', index_col=0)\n",
    "print(df.shape)\n",
    "df.head()"
   ]
  },
  {
   "cell_type": "code",
   "execution_count": 3,
   "metadata": {},
   "outputs": [
    {
     "name": "stderr",
     "output_type": "stream",
     "text": [
      "12564it [00:01, 9761.94it/s]\n"
     ]
    }
   ],
   "source": [
    "idxs_drop = []\n",
    "user_list = []\n",
    "for idx, row in tqdm(df[df.action == 'referral_made'].iterrows()):\n",
    "    user_id = row.user_id\n",
    "    if user_id not in user_list:\n",
    "        user_list.append(user_id)\n",
    "    else:\n",
    "        idxs_drop.append(idx)"
   ]
  },
  {
   "cell_type": "code",
   "execution_count": 4,
   "metadata": {},
   "outputs": [
    {
     "data": {
      "text/plain": [
       "(6180271, 6)"
      ]
     },
     "execution_count": 4,
     "metadata": {},
     "output_type": "execute_result"
    }
   ],
   "source": [
    "df = df[~df.index.isin(idxs_drop)]\n",
    "del idxs_drop\n",
    "df.reset_index(drop=True, inplace=True)\n",
    "df.shape"
   ]
  },
  {
   "cell_type": "code",
   "execution_count": 5,
   "metadata": {},
   "outputs": [
    {
     "data": {
      "image/png": "[encoded data removed]",
      "text/plain": [
       "<Figure size 864x504 with 1 Axes>"
      ]
     },
     "metadata": {
      "needs_background": "light"
     },
     "output_type": "display_data"
    }
   ],
   "source": [
    "sns.countplot(data=df[~df.event_time.isna()], y='action');"
   ]
  },
  {
   "cell_type": "code",
   "execution_count": 6,
   "metadata": {},
   "outputs": [
    {
     "data": {
      "text/plain": [
       "non_paid_story_view     2187323\n",
       "non_paid_feed_view      1406350\n",
       "paid_story_view         873582 \n",
       "session                 481693 \n",
       "paid_feed_view          474850 \n",
       "deal_choose_campaign    163052 \n",
       "Push.Delivered          152248 \n",
       "deal_share_adjust       99160  \n",
       "promo_auth_inst         58657  \n",
       "magazine_view           53550  \n",
       "registration            49947  \n",
       "participation_story     46740  \n",
       "any_auth                39599  \n",
       "any_auth_inst           38140  \n",
       "Push.Clicked            16342  \n",
       "participation_feed      12542  \n",
       "cpa_participation       12038  \n",
       "withdraw                4770   \n",
       "referral_made           3921   \n",
       "promo_auth_twit         2204   \n",
       "deal_post_twit          1476   \n",
       "any_auth_twit           1439   \n",
       "deal_auth_inst          399    \n",
       "donation                222    \n",
       "deal_auth_twit          27     \n",
       "Name: action, dtype: int64"
      ]
     },
     "execution_count": 6,
     "metadata": {},
     "output_type": "execute_result"
    }
   ],
   "source": [
    "df.action.value_counts()"
   ]
  },
  {
   "cell_type": "code",
   "execution_count": 7,
   "metadata": {},
   "outputs": [
    {
     "name": "stderr",
     "output_type": "stream",
     "text": [
      "100%|██████████| 6180271/6180271 [01:26<00:00, 71376.17it/s]\n"
     ]
    }
   ],
   "source": [
    "insert_idxs = []\n",
    "insert_idxs.append(0)\n",
    "for row in tqdm(df.itertuples(), total=len(df)):\n",
    "    idx = row.Index\n",
    "    if idx == 0 or (row.user_id == df.at[idx-1, 'user_id']):\n",
    "        continue\n",
    "    else:\n",
    "        insert_idxs.append(idx)"
   ]
  },
  {
   "cell_type": "code",
   "execution_count": 8,
   "metadata": {},
   "outputs": [],
   "source": [
    "df_dict = df.to_dict()"
   ]
  },
  {
   "cell_type": "code",
   "execution_count": 9,
   "metadata": {},
   "outputs": [
    {
     "data": {
      "text/plain": [
       "6180271"
      ]
     },
     "execution_count": 9,
     "metadata": {},
     "output_type": "execute_result"
    }
   ],
   "source": [
    "len(df_dict['user_id'])"
   ]
  },
  {
   "cell_type": "code",
   "execution_count": 10,
   "metadata": {},
   "outputs": [
    {
     "data": {
      "text/plain": [
       "108646"
      ]
     },
     "execution_count": 10,
     "metadata": {},
     "output_type": "execute_result"
    }
   ],
   "source": [
    "len(set(insert_idxs))"
   ]
  },
  {
   "cell_type": "code",
   "execution_count": 11,
   "metadata": {},
   "outputs": [
    {
     "name": "stderr",
     "output_type": "stream",
     "text": [
      "100%|██████████| 108646/108646 [00:00<00:00, 309994.05it/s]\n"
     ]
    }
   ],
   "source": [
    "for idx in tqdm(insert_idxs):\n",
    "    new_idx = idx - 0.5\n",
    "    df_dict['user_id'][new_idx] = df_dict['user_id'][idx]\n",
    "    df_dict['created_at'][new_idx] = df_dict['created_at'][idx]\n",
    "    df_dict['event_time'][new_idx] = df_dict['event_time'][idx]\n",
    "    df_dict['action'][new_idx] = 'start'\n",
    "    df_dict['label'][new_idx] = df_dict['label'][idx]"
   ]
  },
  {
   "cell_type": "code",
   "execution_count": 12,
   "metadata": {},
   "outputs": [
    {
     "data": {
      "text/plain": [
       "108646"
      ]
     },
     "execution_count": 12,
     "metadata": {},
     "output_type": "execute_result"
    }
   ],
   "source": [
    "len(df_dict['user_id']) - len(df)"
   ]
  },
  {
   "cell_type": "code",
   "execution_count": 13,
   "metadata": {},
   "outputs": [
    {
     "data": {
      "text/plain": [
       "(108646, 6180271, 6288917)"
      ]
     },
     "execution_count": 13,
     "metadata": {},
     "output_type": "execute_result"
    }
   ],
   "source": [
    "len(insert_idxs), df.shape[0], len(insert_idxs) + df.shape[0]"
   ]
  },
  {
   "cell_type": "code",
   "execution_count": 14,
   "metadata": {},
   "outputs": [
    {
     "data": {
      "text/plain": [
       "(6288917, 6)"
      ]
     },
     "execution_count": 14,
     "metadata": {},
     "output_type": "execute_result"
    }
   ],
   "source": [
    "df = pd.DataFrame(df_dict)\n",
    "df.shape"
   ]
  },
  {
   "cell_type": "code",
   "execution_count": 15,
   "metadata": {},
   "outputs": [],
   "source": [
    "df.sort_index(inplace=True)\n",
    "df.reset_index(drop=True, inplace=True)"
   ]
  },
  {
   "cell_type": "code",
   "execution_count": 16,
   "metadata": {},
   "outputs": [],
   "source": [
    "del df_dict"
   ]
  },
  {
   "cell_type": "code",
   "execution_count": 17,
   "metadata": {},
   "outputs": [],
   "source": [
    "df_dict = df.to_dict()"
   ]
  },
  {
   "cell_type": "code",
   "execution_count": 18,
   "metadata": {},
   "outputs": [],
   "source": [
    "user_idxs = {}\n",
    "for k, v in df_dict['user_id'].items():\n",
    "    user_idxs[v] = user_idxs.get(v, []) + [k]"
   ]
  },
  {
   "cell_type": "code",
   "execution_count": 19,
   "metadata": {},
   "outputs": [
    {
     "data": {
      "text/plain": [
       "97"
      ]
     },
     "execution_count": 19,
     "metadata": {},
     "output_type": "execute_result"
    }
   ],
   "source": [
    "len(user_idxs[14])"
   ]
  },
  {
   "cell_type": "code",
   "execution_count": 20,
   "metadata": {},
   "outputs": [
    {
     "name": "stderr",
     "output_type": "stream",
     "text": [
      "100%|██████████| 108646/108646 [00:01<00:00, 77041.89it/s]\n"
     ]
    }
   ],
   "source": [
    "sequences = dict()\n",
    "\n",
    "for user_id, idxs in tqdm(user_idxs.items()):\n",
    "    actions = [df_dict['action'][idx] for idx in idxs]\n",
    "    sequences[user_id] = actions"
   ]
  },
  {
   "cell_type": "code",
   "execution_count": 21,
   "metadata": {},
   "outputs": [
    {
     "data": {
      "text/plain": [
       "108646"
      ]
     },
     "execution_count": 21,
     "metadata": {},
     "output_type": "execute_result"
    }
   ],
   "source": [
    "len(sequences)"
   ]
  },
  {
   "cell_type": "code",
   "execution_count": 210,
   "metadata": {},
   "outputs": [
    {
     "data": {
      "image/png": "[encoded data removed]",
      "text/plain": [
       "<Figure size 864x504 with 1 Axes>"
      ]
     },
     "metadata": {
      "needs_background": "light"
     },
     "output_type": "display_data"
    }
   ],
   "source": [
    "sns.distplot(pd.Series([len(v) for k, v in sequences.items() if len(v) <= 100]), kde=False);"
   ]
  },
  {
   "cell_type": "code",
   "execution_count": 22,
   "metadata": {},
   "outputs": [],
   "source": [
    "w2v = Word2Vec(\n",
    "    sentences=[v for k, v in sequences.items()], \n",
    "    size=100, window=15, min_count=3, workers=8\n",
    ")"
   ]
  },
  {
   "cell_type": "code",
   "execution_count": 23,
   "metadata": {},
   "outputs": [
    {
     "name": "stderr",
     "output_type": "stream",
     "text": [
      "<ipython-input-23-d1188abc6169>:3: DeprecationWarning: Call to deprecated `syn0norm` (Attribute will be removed in 4.0.0, use self.vectors_norm instead).\n",
      "  matrix = pd.DataFrame(np.dot(w2v.wv.syn0norm, w2v.wv.syn0norm.T), columns=actions, index=actions)\n"
     ]
    }
   ],
   "source": [
    "w2v.init_sims()\n",
    "actions = [w2v.wv.index2word[idx] for idx in range(len(w2v.wv.vocab))]\n",
    "matrix = pd.DataFrame(np.dot(w2v.wv.syn0norm, w2v.wv.syn0norm.T), columns=actions, index=actions)"
   ]
  },
  {
   "cell_type": "code",
   "execution_count": 24,
   "metadata": {},
   "outputs": [
    {
     "data": {
      "image/png": "[encoded data removed]",
      "text/plain": [
       "<Figure size 864x504 with 2 Axes>"
      ]
     },
     "metadata": {
      "needs_background": "light"
     },
     "output_type": "display_data"
    }
   ],
   "source": [
    "heatmap = sns.heatmap(matrix, cmap=\"YlGnBu\");\n",
    "#heatmap.set_xticklabels(heatmap.get_xticklabels(), rotation=45, position=(0,-0.1), va='center');"
   ]
  },
  {
   "cell_type": "code",
   "execution_count": 25,
   "metadata": {},
   "outputs": [
    {
     "name": "stderr",
     "output_type": "stream",
     "text": [
      "<ipython-input-25-dbd56f0b6c73>:1: DeprecationWarning: Call to deprecated `__getitem__` (Method will be removed in 4.0.0, use self.wv.__getitem__() instead).\n",
      "  sequences_vec = {k: w2v[v] for k, v in sequences.items()}\n"
     ]
    },
    {
     "data": {
      "text/plain": [
       "(97, 100)"
      ]
     },
     "execution_count": 25,
     "metadata": {},
     "output_type": "execute_result"
    }
   ],
   "source": [
    "sequences_vec = {k: w2v[v] for k, v in sequences.items()}\n",
    "sequences_vec[14].shape"
   ]
  },
  {
   "cell_type": "code",
   "execution_count": 27,
   "metadata": {},
   "outputs": [
    {
     "data": {
      "text/plain": [
       "[(-5, 0.0066928509242848554),\n",
       " (-4, 0.01798620996209156),\n",
       " (-3, 0.04742587317756678),\n",
       " (-2, 0.11920292202211755),\n",
       " (-1, 0.2689414213699951),\n",
       " (0, 0.5),\n",
       " (1, 0.7310585786300049),\n",
       " (2, 0.8807970779778823),\n",
       " (3, 0.9525741268224334),\n",
       " (4, 0.9820137900379085)]"
      ]
     },
     "execution_count": 27,
     "metadata": {},
     "output_type": "execute_result"
    }
   ],
   "source": [
    "def sigmoid(x):\n",
    "    return 1 / (1 + np.exp(-x))\n",
    "\n",
    "tau = 0.5\n",
    "theta = 0.01\n",
    "sigmoid(tau * 1 + theta * 10)\n",
    "[(i, sigmoid(i)) for i in range(-5, 5)]\n",
    "\n",
    "# formula = 0.5 * delta_t + 2.5 * 80%-quantile\n"
   ]
  },
  {
   "cell_type": "code",
   "execution_count": 28,
   "metadata": {},
   "outputs": [
    {
     "name": "stderr",
     "output_type": "stream",
     "text": [
      "100%|██████████| 26/26 [00:12<00:00,  2.14it/s]\n",
      "100%|██████████| 26/26 [00:13<00:00,  2.00it/s]\n"
     ]
    }
   ],
   "source": [
    "#sns.distplot(df[df.action == 'withdraw'].theta)\n",
    "thetas_map = {k: df[(df.action == k) & (~df.action.isna())].theta.quantile(0.8) for k in tqdm(df.action.unique())}\n",
    "medians_map = {k: df[(df.action == k) & (~df.action.isna())].theta.median() for k in tqdm(df.action.unique())}\n",
    "thetas_map = {k: v for k, v in thetas_map.items() if v > 0}\n",
    "medians_map = {k: v for k, v in medians_map.items() if v > 0}\n",
    "\n",
    "theta_const = 3\n",
    "thetas_map = {k: theta_const / v for k, v in thetas_map.items()}"
   ]
  },
  {
   "cell_type": "code",
   "execution_count": 29,
   "metadata": {},
   "outputs": [
    {
     "name": "stderr",
     "output_type": "stream",
     "text": [
      "100%|██████████| 108646/108646 [03:18<00:00, 548.70it/s]\n"
     ]
    }
   ],
   "source": [
    "tau = 1\n",
    "\n",
    "def calc_importance(dt, action, value):\n",
    "    theta = thetas_map[action] if action in thetas_map else 0\n",
    "    if pd.isna(value):\n",
    "        value = medians_map[action] if action in medians_map else 0\n",
    "    inp = tau * dt + theta * value - 2\n",
    "\n",
    "    return sigmoid(inp)\n",
    "\n",
    "for user_id, idxs in tqdm(user_idxs.items()):\n",
    "    actions_vec = sequences_vec[user_id]\n",
    "    actions = sequences[user_id]\n",
    "    thetas = [df_dict['theta'][idx] for idx in idxs]\n",
    "    deltas = [df_dict['event_time'][idx] for idx in idxs]\n",
    "    if max(deltas) == min(deltas):\n",
    "        coefs = calc_importance(1, actions[0], thetas[0])\n",
    "        coefs = [coefs] * len(actions)\n",
    "        assert len(deltas) in (1, 2)\n",
    "    else:\n",
    "        deltas = [dt.datetime.timestamp(dt.datetime.strptime(d, '%Y-%m-%d %H:%M:%S.%f')) for d in deltas]\n",
    "        deltas = [(d - min(deltas)) / (max(deltas) - min(deltas)) for d in deltas]\n",
    "        coefs = [calc_importance(dt, action, value) for dt, action, value in zip(deltas,actions, thetas)]\n",
    "    \n",
    "    result_vec = np.mean([a_vec * coef for a_vec, coef in zip(actions_vec, coefs)], axis=0)\n",
    "    sequences_vec[user_id] = result_vec\n",
    "    #break"
   ]
  },
  {
   "cell_type": "code",
   "execution_count": 32,
   "metadata": {},
   "outputs": [
    {
     "data": {
      "text/plain": [
       "[(0.11920292202211755, nan, 'start'),\n",
       " (0.11920292202211755, nan, 'session'),\n",
       " (0.11921551450309952, nan, 'deal_choose_campaign'),\n",
       " (0.11923510175884311, nan, 'deal_share_adjust'),\n",
       " (0.1433803424050858, nan, 'session'),\n",
       " (0.1434168453037857, nan, 'deal_choose_campaign'),\n",
       " (0.14343958978505125, nan, 'deal_share_adjust'),\n",
       " (0.17576987674160097, nan, 'session'),\n",
       " (0.18023800114336277, nan, 'session'),\n",
       " (0.18026688544123282, nan, 'deal_choose_campaign'),\n",
       " (0.1802880473296321, nan, 'deal_choose_campaign'),\n",
       " (0.1803053966362157, nan, 'deal_choose_campaign'),\n",
       " (0.1803253879294616, nan, 'deal_choose_campaign'),\n",
       " (0.1803471686626349, nan, 'deal_share_adjust'),\n",
       " (0.19147904825528234, nan, 'session'),\n",
       " (0.19453964375565788, nan, 'session'),\n",
       " (0.1945427764331504, nan, 'deal_choose_campaign'),\n",
       " (0.19454396511339878, nan, 'deal_choose_campaign'),\n",
       " (0.19458276783355302, nan, 'deal_share_adjust'),\n",
       " (0.2689414213699951, nan, 'session')]"
      ]
     },
     "execution_count": 32,
     "metadata": {},
     "output_type": "execute_result"
    }
   ],
   "source": [
    "list(zip(coefs, thetas, actions))"
   ]
  },
  {
   "cell_type": "code",
   "execution_count": 65,
   "metadata": {},
   "outputs": [],
   "source": [
    "sequences_vec = {k: np.mean(v, axis=0) for k, v in sequences_vec.items()}"
   ]
  },
  {
   "cell_type": "code",
   "execution_count": 33,
   "metadata": {},
   "outputs": [
    {
     "name": "stderr",
     "output_type": "stream",
     "text": [
      "100%|██████████| 108646/108646 [00:04<00:00, 24953.02it/s]\n"
     ]
    }
   ],
   "source": [
    "for k in tqdm(sequences_vec):\n",
    "    for val in sequences_vec[k]:\n",
    "        #print(sequences_vec[k].shape)\n",
    "        if pd.isna(val):\n",
    "            print('here')\n",
    "            break"
   ]
  },
  {
   "cell_type": "code",
   "execution_count": 21,
   "metadata": {},
   "outputs": [
    {
     "data": {
      "text/plain": [
       "(78133, 2)"
      ]
     },
     "execution_count": 21,
     "metadata": {},
     "output_type": "execute_result"
    }
   ],
   "source": [
    "import pandas as pd\n",
    "sc = pd.read_csv('/home/konstantinlipkin/Downloads/scores1.csv', index_col=0)\n",
    "sc[sc.ix == 250]\n",
    "sc.shape"
   ]
  },
  {
   "cell_type": "code",
   "execution_count": 22,
   "metadata": {},
   "outputs": [
    {
     "name": "stderr",
     "output_type": "stream",
     "text": [
      "78133it [01:21, 960.22it/s] \n"
     ]
    }
   ],
   "source": [
    "from tqdm import tqdm\n",
    "deltas = []\n",
    "for idx, row in tqdm(sc.iterrows()):\n",
    "    d = sc[sc.ix == row.ix].score\n",
    "    if len(d) > 1:\n",
    "        deltas.append(abs(d.iloc[0] - d.iloc[1]))"
   ]
  },
  {
   "cell_type": "code",
   "execution_count": 25,
   "metadata": {},
   "outputs": [
    {
     "data": {
      "text/plain": [
       "<AxesSubplot:>"
      ]
     },
     "execution_count": 25,
     "metadata": {},
     "output_type": "execute_result"
    },
    {
     "data": {
      "image/png": "[encoded data removed]",
      "text/plain": [
       "<Figure size 432x288 with 1 Axes>"
      ]
     },
     "metadata": {
      "needs_background": "light"
     },
     "output_type": "display_data"
    }
   ],
   "source": [
    "import seaborn as sns\n",
    "deltas = pd.Series(deltas)\n",
    "sns.distplot([d for d in deltas if d <= 10])"
   ]
  },
  {
   "cell_type": "code",
   "execution_count": 31,
   "metadata": {},
   "outputs": [
    {
     "data": {
      "text/plain": [
       "25204.0"
      ]
     },
     "execution_count": 31,
     "metadata": {},
     "output_type": "execute_result"
    }
   ],
   "source": [
    "deltas[deltas <= 0.2].shape[0] / 1"
   ]
  },
  {
   "cell_type": "code",
   "execution_count": 10,
   "metadata": {},
   "outputs": [
    {
     "data": {
      "text/plain": [
       "(18008, 2)"
      ]
     },
     "execution_count": 10,
     "metadata": {},
     "output_type": "execute_result"
    }
   ],
   "source": [
    "sc[sc.score <= -3.8].shape"
   ]
  },
  {
   "cell_type": "code",
   "execution_count": null,
   "metadata": {},
   "outputs": [],
   "source": [
    "import torch\n",
    "\n",
    "encoder = torch.load('model_checkpoints/encoder_epoch_1_train_loss_0.6454_test_loss_0.5629_train_acc_0.7922_test_acc_0.8160')\n",
    "eh = torch.load('model_checkpoints/eh_epoch_1_train_loss_0.6454_test_loss_0.5629_train_acc_0.7922_test_acc_0.8160')\n",
    "sequences_vec = encoder(inputs, hidden, tau, eh)"
   ]
  },
  {
   "cell_type": "code",
   "execution_count": 22,
   "metadata": {},
   "outputs": [
    {
     "name": "stdout",
     "output_type": "stream",
     "text": [
      "CPU times: user 5.93 s, sys: 666 ms, total: 6.59 s\n",
      "Wall time: 8min 34s\n"
     ]
    }
   ],
   "source": [
    "%%time\n",
    "hostname = 'production-backend-db-roreplica-01.c3trjnrdrwyu.eu-central-1.rds.amazonaws.com'\n",
    "hostname = 'production-backend-db-roreplica-01.cy7iayle3ae8.eu-central-1.rds.amazonaws.com'\n",
    "username = 'backend'\n",
    "password = 'owrLKfs67LkfTyis71NfBgdsdf25'\n",
    "database = 'backend'\n",
    "\n",
    "with psycopg2.connect(host=hostname, user=username, password=password, dbname=database) as conn:\n",
    "    with conn.cursor() as cursor:        \n",
    "        query = \"\"\"\n",
    "select distinct\n",
    "a.user_id,\n",
    "case\n",
    "    when date_of_birth is not null then extract(year from age(u.date_of_birth))\n",
    "    else u.age_predicted\n",
    "end as age,\n",
    "case\n",
    "    when u.gender is not null then u.gender\n",
    "    else u.gender_predicted\n",
    "end as gender,\n",
    "a.eyeball,\n",
    "a.followers_count,\n",
    "a.is_verified,\n",
    "a.is_private,\n",
    "a.story_eyeball,\n",
    "case\n",
    "    when platform = 1 then 'ios'\n",
    "    when platform = 2 then 'android'\n",
    "end as platform,\n",
    "a.status,\n",
    "at.premium_score,\n",
    "at.content_similarity,\n",
    "at.tags,\n",
    "a.r\n",
    "from (select *, row_number() over (partition by user_id order by id desc) as r \n",
    "      from accounts \n",
    "      where provider_type = 4\n",
    ") as a\n",
    "left join (select *, row_number() over (partition by user_id order by id desc) as r from devices) as d \n",
    "on d.user_id = a.user_id and d.r = 1 and a.r = 1\n",
    "left join (select *, row_number() over (partition by provider_id order by id desc) as r from account_taggings) as at\n",
    "on at.provider_id = a.provider_id and at.r = 1\n",
    "join users as u on u.id = a.user_id\n",
    "\n",
    "\"\"\".format(tuple(df.user_id.to_list()))\n",
    "        \n",
    "        query1 = \"\"\"\n",
    "        select counts, count(user_id)\n",
    "        from (\n",
    "        select user_id, count(id) as counts\n",
    "        from accounts as a\n",
    "        group by user_id\n",
    "        ) as f\n",
    "        group by counts\n",
    "        order by counts\n",
    "        \"\"\"\n",
    "                \n",
    "        cursor.execute(query)\n",
    "        results = cursor.fetchall()"
   ]
  },
  {
   "cell_type": "code",
   "execution_count": 23,
   "metadata": {},
   "outputs": [
    {
     "name": "stdout",
     "output_type": "stream",
     "text": [
      "(107585, 12)\n"
     ]
    },
    {
     "data": {
      "text/html": [
       "<div>\n",
       "<style scoped>\n",
       "    .dataframe tbody tr th:only-of-type {\n",
       "        vertical-align: middle;\n",
       "    }\n",
       "\n",
       "    .dataframe tbody tr th {\n",
       "        vertical-align: top;\n",
       "    }\n",
       "\n",
       "    .dataframe thead th {\n",
       "        text-align: right;\n",
       "    }\n",
       "</style>\n",
       "<table border=\"1\" class=\"dataframe\">\n",
       "  <thead>\n",
       "    <tr style=\"text-align: right;\">\n",
       "      <th></th>\n",
       "      <th>age</th>\n",
       "      <th>gender</th>\n",
       "      <th>eyeball</th>\n",
       "      <th>followers_count</th>\n",
       "      <th>is_verified</th>\n",
       "      <th>is_private</th>\n",
       "      <th>story_eyeball</th>\n",
       "      <th>platform</th>\n",
       "      <th>status</th>\n",
       "      <th>premium_score</th>\n",
       "      <th>content_similarity</th>\n",
       "      <th>tags</th>\n",
       "    </tr>\n",
       "    <tr>\n",
       "      <th>user_id</th>\n",
       "      <th></th>\n",
       "      <th></th>\n",
       "      <th></th>\n",
       "      <th></th>\n",
       "      <th></th>\n",
       "      <th></th>\n",
       "      <th></th>\n",
       "      <th></th>\n",
       "      <th></th>\n",
       "      <th></th>\n",
       "      <th></th>\n",
       "      <th></th>\n",
       "    </tr>\n",
       "  </thead>\n",
       "  <tbody>\n",
       "    <tr>\n",
       "      <th>14</th>\n",
       "      <td>31.0</td>\n",
       "      <td>male</td>\n",
       "      <td>1000.0</td>\n",
       "      <td>155.0</td>\n",
       "      <td>False</td>\n",
       "      <td>True</td>\n",
       "      <td>1000.0</td>\n",
       "      <td>android</td>\n",
       "      <td>0</td>\n",
       "      <td>0E-15</td>\n",
       "      <td>None</td>\n",
       "      <td>[]</td>\n",
       "    </tr>\n",
       "    <tr>\n",
       "      <th>20</th>\n",
       "      <td>39.0</td>\n",
       "      <td>male</td>\n",
       "      <td>1034.0</td>\n",
       "      <td>238.0</td>\n",
       "      <td>False</td>\n",
       "      <td>False</td>\n",
       "      <td>1034.0</td>\n",
       "      <td>ios</td>\n",
       "      <td>0</td>\n",
       "      <td>0.536545114813147</td>\n",
       "      <td>0.611712841308125</td>\n",
       "      <td>[travel, arts]</td>\n",
       "    </tr>\n",
       "    <tr>\n",
       "      <th>22</th>\n",
       "      <td>25.0</td>\n",
       "      <td>female</td>\n",
       "      <td>176.0</td>\n",
       "      <td>2225.0</td>\n",
       "      <td>False</td>\n",
       "      <td>False</td>\n",
       "      <td>224.0</td>\n",
       "      <td>ios</td>\n",
       "      <td>0</td>\n",
       "      <td>0.860522155551442</td>\n",
       "      <td>0.619411781204765</td>\n",
       "      <td>[food, beauty, travel]</td>\n",
       "    </tr>\n",
       "    <tr>\n",
       "      <th>59</th>\n",
       "      <td>29.0</td>\n",
       "      <td>male</td>\n",
       "      <td>106.0</td>\n",
       "      <td>756.0</td>\n",
       "      <td>False</td>\n",
       "      <td>False</td>\n",
       "      <td>75.0</td>\n",
       "      <td>ios</td>\n",
       "      <td>0</td>\n",
       "      <td>0.424095479690449</td>\n",
       "      <td>0.419030606624412</td>\n",
       "      <td>[pets]</td>\n",
       "    </tr>\n",
       "    <tr>\n",
       "      <th>147</th>\n",
       "      <td>28.0</td>\n",
       "      <td>male</td>\n",
       "      <td>56.0</td>\n",
       "      <td>305.0</td>\n",
       "      <td>False</td>\n",
       "      <td>False</td>\n",
       "      <td>0.0</td>\n",
       "      <td>ios</td>\n",
       "      <td>1</td>\n",
       "      <td>0.378219560714085</td>\n",
       "      <td>0.276196092367172</td>\n",
       "      <td>[travel]</td>\n",
       "    </tr>\n",
       "  </tbody>\n",
       "</table>\n",
       "</div>"
      ],
      "text/plain": [
       "          age  gender  eyeball  followers_count is_verified  is_private  \\\n",
       "user_id                                                                   \n",
       "14       31.0  male    1000.0   155.0            False       True         \n",
       "20       39.0  male    1034.0   238.0            False       False        \n",
       "22       25.0  female  176.0    2225.0           False       False        \n",
       "59       29.0  male    106.0    756.0            False       False        \n",
       "147      28.0  male    56.0     305.0            False       False        \n",
       "\n",
       "         story_eyeball platform  status      premium_score content_similarity  \\\n",
       "user_id                                                                         \n",
       "14       1000.0         android  0       0E-15              None                \n",
       "20       1034.0         ios      0       0.536545114813147  0.611712841308125   \n",
       "22       224.0          ios      0       0.860522155551442  0.619411781204765   \n",
       "59       75.0           ios      0       0.424095479690449  0.419030606624412   \n",
       "147      0.0            ios      1       0.378219560714085  0.276196092367172   \n",
       "\n",
       "                           tags  \n",
       "user_id                          \n",
       "14       []                      \n",
       "20       [travel, arts]          \n",
       "22       [food, beauty, travel]  \n",
       "59       [pets]                  \n",
       "147      [travel]                "
      ]
     },
     "execution_count": 23,
     "metadata": {},
     "output_type": "execute_result"
    }
   ],
   "source": [
    "df_stats = pd.DataFrame(results, columns=[cursor.description[i][0] for i in range(len(cursor.description))])\n",
    "df_stats = df_stats[df_stats.user_id.isin(df.user_id)]\n",
    "df_stats = df_stats[df_stats.r == 1]\n",
    "df_stats.index = df_stats.user_id\n",
    "del df_stats['r'], df_stats['user_id']\n",
    "print(df_stats.shape)\n",
    "df_stats.head()"
   ]
  },
  {
   "cell_type": "code",
   "execution_count": 24,
   "metadata": {},
   "outputs": [
    {
     "data": {
      "text/plain": [
       "108646"
      ]
     },
     "execution_count": 24,
     "metadata": {},
     "output_type": "execute_result"
    }
   ],
   "source": [
    "df.user_id.nunique()"
   ]
  },
  {
   "cell_type": "code",
   "execution_count": 25,
   "metadata": {},
   "outputs": [
    {
     "data": {
      "text/plain": [
       "array([31.0, 'male', 1000.0, 155.0, False, True, 1000.0, 'android', 0,\n",
       "       Decimal('0E-15'), None, list([])], dtype=object)"
      ]
     },
     "execution_count": 25,
     "metadata": {},
     "output_type": "execute_result"
    }
   ],
   "source": [
    "df_stats.loc[14].to_numpy()"
   ]
  },
  {
   "cell_type": "code",
   "execution_count": 66,
   "metadata": {},
   "outputs": [],
   "source": [
    "sequences_vec = {k: np.concatenate([v, df_stats.loc[k].to_numpy() if k in df_stats.index else np.array([np.nan] * len(df_stats.columns))]) for k, v in sequences_vec.items()}"
   ]
  },
  {
   "cell_type": "code",
   "execution_count": 34,
   "metadata": {},
   "outputs": [],
   "source": [
    "labels = df[['label']]\n",
    "labels.index = df.user_id\n",
    "sequences_vec = {k: np.concatenate([v, labels.at[k, 'label'][:1]]) for k, v in sequences_vec.items()}"
   ]
  },
  {
   "cell_type": "code",
   "execution_count": 37,
   "metadata": {},
   "outputs": [],
   "source": [
    "data = list(sequences_vec.values())\n",
    "data = pd.DataFrame(data, columns=list(map(str, range(100))) + \\\n",
    "                    #df_stats.columns.to_list() +\\\n",
    "                    ['label'])\n",
    "data['label'] = data.label.astype(int)\n",
    "for col in data.columns:\n",
    "    if col not in ['label',\n",
    "                  # *df_stats.columns.to_list()\n",
    "                  ]:\n",
    "        data[col] = data[col].astype(np.float32)"
   ]
  },
  {
   "cell_type": "code",
   "execution_count": 39,
   "metadata": {
    "collapsed": true,
    "jupyter": {
     "outputs_hidden": true
    }
   },
   "outputs": [
    {
     "ename": "AttributeError",
     "evalue": "'DataFrame' object has no attribute 'tags'",
     "output_type": "error",
     "traceback": [
      "\u001b[0;31m---------------------------------------------------------------------------\u001b[0m",
      "\u001b[0;31mAttributeError\u001b[0m                            Traceback (most recent call last)",
      "\u001b[0;32m<ipython-input-39-38feebe934c3>\u001b[0m in \u001b[0;36m<module>\u001b[0;34m\u001b[0m\n\u001b[0;32m----> 1\u001b[0;31m \u001b[0mtag_list\u001b[0m \u001b[0;34m=\u001b[0m \u001b[0mlist\u001b[0m\u001b[0;34m(\u001b[0m\u001b[0mset\u001b[0m\u001b[0;34m(\u001b[0m\u001b[0;34m[\u001b[0m\u001b[0mtag\u001b[0m \u001b[0;32mfor\u001b[0m \u001b[0mtags\u001b[0m \u001b[0;32min\u001b[0m \u001b[0mdata\u001b[0m\u001b[0;34m.\u001b[0m\u001b[0mtags\u001b[0m \u001b[0;32mif\u001b[0m \u001b[0misinstance\u001b[0m\u001b[0;34m(\u001b[0m\u001b[0mtags\u001b[0m\u001b[0;34m,\u001b[0m \u001b[0mlist\u001b[0m\u001b[0;34m)\u001b[0m \u001b[0;32mfor\u001b[0m \u001b[0mtag\u001b[0m \u001b[0;32min\u001b[0m \u001b[0mtags\u001b[0m\u001b[0;34m]\u001b[0m\u001b[0;34m)\u001b[0m\u001b[0;34m)\u001b[0m\u001b[0;34m\u001b[0m\u001b[0;34m\u001b[0m\u001b[0m\n\u001b[0m\u001b[1;32m      2\u001b[0m \u001b[0;34m\u001b[0m\u001b[0m\n\u001b[1;32m      3\u001b[0m \u001b[0;32mfor\u001b[0m \u001b[0midx\u001b[0m\u001b[0;34m,\u001b[0m \u001b[0mrow\u001b[0m \u001b[0;32min\u001b[0m \u001b[0mtqdm\u001b[0m\u001b[0;34m(\u001b[0m\u001b[0mdata\u001b[0m\u001b[0;34m.\u001b[0m\u001b[0miterrows\u001b[0m\u001b[0;34m(\u001b[0m\u001b[0;34m)\u001b[0m\u001b[0;34m,\u001b[0m \u001b[0mtotal\u001b[0m\u001b[0;34m=\u001b[0m\u001b[0mlen\u001b[0m\u001b[0;34m(\u001b[0m\u001b[0mdata\u001b[0m\u001b[0;34m)\u001b[0m\u001b[0;34m)\u001b[0m\u001b[0;34m:\u001b[0m\u001b[0;34m\u001b[0m\u001b[0;34m\u001b[0m\u001b[0m\n\u001b[1;32m      4\u001b[0m     \u001b[0mtags\u001b[0m \u001b[0;34m=\u001b[0m \u001b[0mrow\u001b[0m\u001b[0;34m.\u001b[0m\u001b[0mtags\u001b[0m\u001b[0;34m\u001b[0m\u001b[0;34m\u001b[0m\u001b[0m\n\u001b[1;32m      5\u001b[0m     \u001b[0;32mfor\u001b[0m \u001b[0mtag\u001b[0m \u001b[0;32min\u001b[0m \u001b[0mtag_list\u001b[0m\u001b[0;34m:\u001b[0m\u001b[0;34m\u001b[0m\u001b[0;34m\u001b[0m\u001b[0m\n",
      "\u001b[0;32m~/anaconda3/lib/python3.8/site-packages/pandas/core/generic.py\u001b[0m in \u001b[0;36m__getattr__\u001b[0;34m(self, name)\u001b[0m\n\u001b[1;32m   5272\u001b[0m             \u001b[0;32mif\u001b[0m \u001b[0mself\u001b[0m\u001b[0;34m.\u001b[0m\u001b[0m_info_axis\u001b[0m\u001b[0;34m.\u001b[0m\u001b[0m_can_hold_identifiers_and_holds_name\u001b[0m\u001b[0;34m(\u001b[0m\u001b[0mname\u001b[0m\u001b[0;34m)\u001b[0m\u001b[0;34m:\u001b[0m\u001b[0;34m\u001b[0m\u001b[0;34m\u001b[0m\u001b[0m\n\u001b[1;32m   5273\u001b[0m                 \u001b[0;32mreturn\u001b[0m \u001b[0mself\u001b[0m\u001b[0;34m[\u001b[0m\u001b[0mname\u001b[0m\u001b[0;34m]\u001b[0m\u001b[0;34m\u001b[0m\u001b[0;34m\u001b[0m\u001b[0m\n\u001b[0;32m-> 5274\u001b[0;31m             \u001b[0;32mreturn\u001b[0m \u001b[0mobject\u001b[0m\u001b[0;34m.\u001b[0m\u001b[0m__getattribute__\u001b[0m\u001b[0;34m(\u001b[0m\u001b[0mself\u001b[0m\u001b[0;34m,\u001b[0m \u001b[0mname\u001b[0m\u001b[0;34m)\u001b[0m\u001b[0;34m\u001b[0m\u001b[0;34m\u001b[0m\u001b[0m\n\u001b[0m\u001b[1;32m   5275\u001b[0m \u001b[0;34m\u001b[0m\u001b[0m\n\u001b[1;32m   5276\u001b[0m     \u001b[0;32mdef\u001b[0m \u001b[0m__setattr__\u001b[0m\u001b[0;34m(\u001b[0m\u001b[0mself\u001b[0m\u001b[0;34m,\u001b[0m \u001b[0mname\u001b[0m\u001b[0;34m:\u001b[0m \u001b[0mstr\u001b[0m\u001b[0;34m,\u001b[0m \u001b[0mvalue\u001b[0m\u001b[0;34m)\u001b[0m \u001b[0;34m->\u001b[0m \u001b[0;32mNone\u001b[0m\u001b[0;34m:\u001b[0m\u001b[0;34m\u001b[0m\u001b[0;34m\u001b[0m\u001b[0m\n",
      "\u001b[0;31mAttributeError\u001b[0m: 'DataFrame' object has no attribute 'tags'"
     ]
    }
   ],
   "source": [
    "tag_list = list(set([tag for tags in data.tags if isinstance(tags, list) for tag in tags]))\n",
    "\n",
    "for idx, row in tqdm(data.iterrows(), total=len(data)):\n",
    "    tags = row.tags\n",
    "    for tag in tag_list:\n",
    "        if isinstance(tags, list) and tag in tags:\n",
    "            data.at[idx, tag] = 1\n",
    "        else:\n",
    "            data.at[idx, tag] = 0"
   ]
  },
  {
   "cell_type": "code",
   "execution_count": 38,
   "metadata": {},
   "outputs": [
    {
     "data": {
      "text/plain": [
       "(108646, 101)"
      ]
     },
     "execution_count": 38,
     "metadata": {},
     "output_type": "execute_result"
    }
   ],
   "source": [
    "data.shape"
   ]
  },
  {
   "cell_type": "code",
   "execution_count": 39,
   "metadata": {},
   "outputs": [
    {
     "data": {
      "text/html": [
       "<div>\n",
       "<style scoped>\n",
       "    .dataframe tbody tr th:only-of-type {\n",
       "        vertical-align: middle;\n",
       "    }\n",
       "\n",
       "    .dataframe tbody tr th {\n",
       "        vertical-align: top;\n",
       "    }\n",
       "\n",
       "    .dataframe thead th {\n",
       "        text-align: right;\n",
       "    }\n",
       "</style>\n",
       "<table border=\"1\" class=\"dataframe\">\n",
       "  <thead>\n",
       "    <tr style=\"text-align: right;\">\n",
       "      <th></th>\n",
       "      <th>0</th>\n",
       "      <th>1</th>\n",
       "      <th>2</th>\n",
       "      <th>3</th>\n",
       "      <th>4</th>\n",
       "      <th>5</th>\n",
       "      <th>6</th>\n",
       "      <th>7</th>\n",
       "      <th>8</th>\n",
       "      <th>9</th>\n",
       "      <th>10</th>\n",
       "      <th>11</th>\n",
       "      <th>12</th>\n",
       "      <th>13</th>\n",
       "      <th>14</th>\n",
       "      <th>15</th>\n",
       "      <th>16</th>\n",
       "      <th>17</th>\n",
       "      <th>18</th>\n",
       "      <th>19</th>\n",
       "      <th>20</th>\n",
       "      <th>21</th>\n",
       "      <th>22</th>\n",
       "      <th>23</th>\n",
       "      <th>24</th>\n",
       "      <th>25</th>\n",
       "      <th>26</th>\n",
       "      <th>...</th>\n",
       "      <th>74</th>\n",
       "      <th>75</th>\n",
       "      <th>76</th>\n",
       "      <th>77</th>\n",
       "      <th>78</th>\n",
       "      <th>79</th>\n",
       "      <th>80</th>\n",
       "      <th>81</th>\n",
       "      <th>82</th>\n",
       "      <th>83</th>\n",
       "      <th>84</th>\n",
       "      <th>85</th>\n",
       "      <th>86</th>\n",
       "      <th>87</th>\n",
       "      <th>88</th>\n",
       "      <th>89</th>\n",
       "      <th>90</th>\n",
       "      <th>91</th>\n",
       "      <th>92</th>\n",
       "      <th>93</th>\n",
       "      <th>94</th>\n",
       "      <th>95</th>\n",
       "      <th>96</th>\n",
       "      <th>97</th>\n",
       "      <th>98</th>\n",
       "      <th>99</th>\n",
       "      <th>label</th>\n",
       "    </tr>\n",
       "  </thead>\n",
       "  <tbody>\n",
       "    <tr>\n",
       "      <th>0</th>\n",
       "      <td>-0.391112</td>\n",
       "      <td>-0.023497</td>\n",
       "      <td>-0.465609</td>\n",
       "      <td>-0.891918</td>\n",
       "      <td>-0.320021</td>\n",
       "      <td>-0.047509</td>\n",
       "      <td>1.666616</td>\n",
       "      <td>0.508683</td>\n",
       "      <td>1.852587</td>\n",
       "      <td>-0.587340</td>\n",
       "      <td>-0.221623</td>\n",
       "      <td>0.491659</td>\n",
       "      <td>-2.410171</td>\n",
       "      <td>-1.205991</td>\n",
       "      <td>0.760348</td>\n",
       "      <td>0.822169</td>\n",
       "      <td>0.095654</td>\n",
       "      <td>0.562864</td>\n",
       "      <td>0.367324</td>\n",
       "      <td>-0.528421</td>\n",
       "      <td>1.315150</td>\n",
       "      <td>0.398310</td>\n",
       "      <td>-0.351253</td>\n",
       "      <td>0.028962</td>\n",
       "      <td>-0.600804</td>\n",
       "      <td>-0.405109</td>\n",
       "      <td>-1.528620</td>\n",
       "      <td>...</td>\n",
       "      <td>-0.612191</td>\n",
       "      <td>0.194027</td>\n",
       "      <td>0.932809</td>\n",
       "      <td>-0.151180</td>\n",
       "      <td>-0.920437</td>\n",
       "      <td>0.658286</td>\n",
       "      <td>0.371839</td>\n",
       "      <td>0.260429</td>\n",
       "      <td>-0.732671</td>\n",
       "      <td>1.064488</td>\n",
       "      <td>-0.889954</td>\n",
       "      <td>-0.377993</td>\n",
       "      <td>1.127184</td>\n",
       "      <td>0.148503</td>\n",
       "      <td>-0.264713</td>\n",
       "      <td>0.699730</td>\n",
       "      <td>-0.435238</td>\n",
       "      <td>-0.524855</td>\n",
       "      <td>-1.367226</td>\n",
       "      <td>0.711732</td>\n",
       "      <td>0.293495</td>\n",
       "      <td>-0.076114</td>\n",
       "      <td>-0.671457</td>\n",
       "      <td>0.950281</td>\n",
       "      <td>-0.235068</td>\n",
       "      <td>-0.605069</td>\n",
       "      <td>0</td>\n",
       "    </tr>\n",
       "    <tr>\n",
       "      <th>1</th>\n",
       "      <td>-0.611526</td>\n",
       "      <td>-0.103905</td>\n",
       "      <td>-1.350241</td>\n",
       "      <td>-0.549417</td>\n",
       "      <td>0.309749</td>\n",
       "      <td>0.336800</td>\n",
       "      <td>1.644398</td>\n",
       "      <td>0.939749</td>\n",
       "      <td>0.989372</td>\n",
       "      <td>-0.682746</td>\n",
       "      <td>-0.175515</td>\n",
       "      <td>-0.569016</td>\n",
       "      <td>-0.669934</td>\n",
       "      <td>-0.791788</td>\n",
       "      <td>1.164147</td>\n",
       "      <td>0.859006</td>\n",
       "      <td>-1.018112</td>\n",
       "      <td>0.475622</td>\n",
       "      <td>0.161013</td>\n",
       "      <td>-0.266676</td>\n",
       "      <td>1.346804</td>\n",
       "      <td>0.309578</td>\n",
       "      <td>-0.538970</td>\n",
       "      <td>0.059610</td>\n",
       "      <td>-0.770346</td>\n",
       "      <td>0.851722</td>\n",
       "      <td>-0.847321</td>\n",
       "      <td>...</td>\n",
       "      <td>-0.015200</td>\n",
       "      <td>-0.030206</td>\n",
       "      <td>1.257127</td>\n",
       "      <td>-0.150951</td>\n",
       "      <td>-0.569182</td>\n",
       "      <td>-0.334485</td>\n",
       "      <td>-0.693895</td>\n",
       "      <td>0.260442</td>\n",
       "      <td>0.354326</td>\n",
       "      <td>1.111906</td>\n",
       "      <td>-0.451841</td>\n",
       "      <td>-0.211530</td>\n",
       "      <td>-0.035391</td>\n",
       "      <td>0.335656</td>\n",
       "      <td>-1.022827</td>\n",
       "      <td>0.665177</td>\n",
       "      <td>0.369128</td>\n",
       "      <td>-0.244392</td>\n",
       "      <td>-0.653423</td>\n",
       "      <td>0.092696</td>\n",
       "      <td>0.209831</td>\n",
       "      <td>0.170478</td>\n",
       "      <td>-0.386429</td>\n",
       "      <td>1.083254</td>\n",
       "      <td>1.092103</td>\n",
       "      <td>-0.546065</td>\n",
       "      <td>0</td>\n",
       "    </tr>\n",
       "    <tr>\n",
       "      <th>2</th>\n",
       "      <td>0.232946</td>\n",
       "      <td>0.167616</td>\n",
       "      <td>0.418367</td>\n",
       "      <td>-0.263916</td>\n",
       "      <td>0.039391</td>\n",
       "      <td>0.485588</td>\n",
       "      <td>0.202279</td>\n",
       "      <td>-0.882195</td>\n",
       "      <td>-0.182517</td>\n",
       "      <td>-0.162343</td>\n",
       "      <td>0.012433</td>\n",
       "      <td>0.256106</td>\n",
       "      <td>0.465214</td>\n",
       "      <td>0.117811</td>\n",
       "      <td>-0.154834</td>\n",
       "      <td>0.286803</td>\n",
       "      <td>0.147292</td>\n",
       "      <td>-0.117197</td>\n",
       "      <td>-0.194692</td>\n",
       "      <td>0.170020</td>\n",
       "      <td>-0.140796</td>\n",
       "      <td>-0.447037</td>\n",
       "      <td>-0.207517</td>\n",
       "      <td>0.002724</td>\n",
       "      <td>0.056798</td>\n",
       "      <td>-0.155225</td>\n",
       "      <td>-0.204507</td>\n",
       "      <td>...</td>\n",
       "      <td>0.150879</td>\n",
       "      <td>0.014194</td>\n",
       "      <td>-0.056525</td>\n",
       "      <td>0.080770</td>\n",
       "      <td>0.180448</td>\n",
       "      <td>-0.155493</td>\n",
       "      <td>-0.133816</td>\n",
       "      <td>0.017465</td>\n",
       "      <td>0.262467</td>\n",
       "      <td>-0.138917</td>\n",
       "      <td>0.182677</td>\n",
       "      <td>0.117023</td>\n",
       "      <td>-0.206847</td>\n",
       "      <td>-0.264438</td>\n",
       "      <td>0.025015</td>\n",
       "      <td>-0.217806</td>\n",
       "      <td>-0.036368</td>\n",
       "      <td>0.266117</td>\n",
       "      <td>0.318718</td>\n",
       "      <td>0.176474</td>\n",
       "      <td>-0.168473</td>\n",
       "      <td>-0.079168</td>\n",
       "      <td>-0.157819</td>\n",
       "      <td>-0.444702</td>\n",
       "      <td>0.095347</td>\n",
       "      <td>0.255459</td>\n",
       "      <td>0</td>\n",
       "    </tr>\n",
       "    <tr>\n",
       "      <th>3</th>\n",
       "      <td>-0.549093</td>\n",
       "      <td>-0.080783</td>\n",
       "      <td>-0.795164</td>\n",
       "      <td>-0.629383</td>\n",
       "      <td>-0.011310</td>\n",
       "      <td>0.069979</td>\n",
       "      <td>1.358431</td>\n",
       "      <td>0.768159</td>\n",
       "      <td>1.275133</td>\n",
       "      <td>-0.555475</td>\n",
       "      <td>-0.115299</td>\n",
       "      <td>0.004085</td>\n",
       "      <td>-1.503119</td>\n",
       "      <td>-0.799796</td>\n",
       "      <td>0.803472</td>\n",
       "      <td>0.670615</td>\n",
       "      <td>-0.424275</td>\n",
       "      <td>0.439839</td>\n",
       "      <td>0.219771</td>\n",
       "      <td>-0.340775</td>\n",
       "      <td>1.170569</td>\n",
       "      <td>0.350574</td>\n",
       "      <td>-0.432093</td>\n",
       "      <td>0.012028</td>\n",
       "      <td>-0.669299</td>\n",
       "      <td>0.167827</td>\n",
       "      <td>-1.053260</td>\n",
       "      <td>...</td>\n",
       "      <td>-0.320943</td>\n",
       "      <td>0.071502</td>\n",
       "      <td>0.976940</td>\n",
       "      <td>-0.136959</td>\n",
       "      <td>-0.693375</td>\n",
       "      <td>0.180109</td>\n",
       "      <td>-0.088340</td>\n",
       "      <td>0.221852</td>\n",
       "      <td>-0.224743</td>\n",
       "      <td>1.016289</td>\n",
       "      <td>-0.637089</td>\n",
       "      <td>-0.290679</td>\n",
       "      <td>0.518440</td>\n",
       "      <td>0.278134</td>\n",
       "      <td>-0.541450</td>\n",
       "      <td>0.656286</td>\n",
       "      <td>-0.031764</td>\n",
       "      <td>-0.397421</td>\n",
       "      <td>-0.896058</td>\n",
       "      <td>0.336946</td>\n",
       "      <td>0.225162</td>\n",
       "      <td>0.080042</td>\n",
       "      <td>-0.527464</td>\n",
       "      <td>1.094042</td>\n",
       "      <td>0.306237</td>\n",
       "      <td>-0.574666</td>\n",
       "      <td>0</td>\n",
       "    </tr>\n",
       "    <tr>\n",
       "      <th>4</th>\n",
       "      <td>0.137319</td>\n",
       "      <td>0.130648</td>\n",
       "      <td>0.121703</td>\n",
       "      <td>-0.199706</td>\n",
       "      <td>0.028892</td>\n",
       "      <td>0.335033</td>\n",
       "      <td>0.151163</td>\n",
       "      <td>-0.528463</td>\n",
       "      <td>-0.021807</td>\n",
       "      <td>-0.054325</td>\n",
       "      <td>-0.003500</td>\n",
       "      <td>0.102656</td>\n",
       "      <td>0.400082</td>\n",
       "      <td>0.070946</td>\n",
       "      <td>-0.032092</td>\n",
       "      <td>0.156245</td>\n",
       "      <td>0.040753</td>\n",
       "      <td>-0.066653</td>\n",
       "      <td>-0.149669</td>\n",
       "      <td>0.139609</td>\n",
       "      <td>-0.067257</td>\n",
       "      <td>-0.320963</td>\n",
       "      <td>-0.020314</td>\n",
       "      <td>0.015571</td>\n",
       "      <td>0.066347</td>\n",
       "      <td>-0.057467</td>\n",
       "      <td>-0.023384</td>\n",
       "      <td>...</td>\n",
       "      <td>0.070896</td>\n",
       "      <td>-0.015329</td>\n",
       "      <td>-0.094622</td>\n",
       "      <td>0.132394</td>\n",
       "      <td>0.075702</td>\n",
       "      <td>-0.082091</td>\n",
       "      <td>-0.037054</td>\n",
       "      <td>-0.001519</td>\n",
       "      <td>0.086717</td>\n",
       "      <td>-0.105220</td>\n",
       "      <td>0.091713</td>\n",
       "      <td>-0.023012</td>\n",
       "      <td>-0.092844</td>\n",
       "      <td>-0.204815</td>\n",
       "      <td>0.038214</td>\n",
       "      <td>-0.087384</td>\n",
       "      <td>-0.034226</td>\n",
       "      <td>0.227620</td>\n",
       "      <td>0.207186</td>\n",
       "      <td>0.058373</td>\n",
       "      <td>-0.126971</td>\n",
       "      <td>-0.015793</td>\n",
       "      <td>-0.124108</td>\n",
       "      <td>-0.242137</td>\n",
       "      <td>0.034510</td>\n",
       "      <td>0.243767</td>\n",
       "      <td>1</td>\n",
       "    </tr>\n",
       "  </tbody>\n",
       "</table>\n",
       "<p>5 rows × 101 columns</p>\n",
       "</div>"
      ],
      "text/plain": [
       "          0         1         2         3         4         5         6  \\\n",
       "0 -0.391112 -0.023497 -0.465609 -0.891918 -0.320021 -0.047509  1.666616   \n",
       "1 -0.611526 -0.103905 -1.350241 -0.549417  0.309749  0.336800  1.644398   \n",
       "2  0.232946  0.167616  0.418367 -0.263916  0.039391  0.485588  0.202279   \n",
       "3 -0.549093 -0.080783 -0.795164 -0.629383 -0.011310  0.069979  1.358431   \n",
       "4  0.137319  0.130648  0.121703 -0.199706  0.028892  0.335033  0.151163   \n",
       "\n",
       "          7         8         9        10        11        12        13  \\\n",
       "0  0.508683  1.852587 -0.587340 -0.221623  0.491659 -2.410171 -1.205991   \n",
       "1  0.939749  0.989372 -0.682746 -0.175515 -0.569016 -0.669934 -0.791788   \n",
       "2 -0.882195 -0.182517 -0.162343  0.012433  0.256106  0.465214  0.117811   \n",
       "3  0.768159  1.275133 -0.555475 -0.115299  0.004085 -1.503119 -0.799796   \n",
       "4 -0.528463 -0.021807 -0.054325 -0.003500  0.102656  0.400082  0.070946   \n",
       "\n",
       "         14        15        16        17        18        19        20  \\\n",
       "0  0.760348  0.822169  0.095654  0.562864  0.367324 -0.528421  1.315150   \n",
       "1  1.164147  0.859006 -1.018112  0.475622  0.161013 -0.266676  1.346804   \n",
       "2 -0.154834  0.286803  0.147292 -0.117197 -0.194692  0.170020 -0.140796   \n",
       "3  0.803472  0.670615 -0.424275  0.439839  0.219771 -0.340775  1.170569   \n",
       "4 -0.032092  0.156245  0.040753 -0.066653 -0.149669  0.139609 -0.067257   \n",
       "\n",
       "         21        22        23        24        25        26  ...        74  \\\n",
       "0  0.398310 -0.351253  0.028962 -0.600804 -0.405109 -1.528620  ... -0.612191   \n",
       "1  0.309578 -0.538970  0.059610 -0.770346  0.851722 -0.847321  ... -0.015200   \n",
       "2 -0.447037 -0.207517  0.002724  0.056798 -0.155225 -0.204507  ...  0.150879   \n",
       "3  0.350574 -0.432093  0.012028 -0.669299  0.167827 -1.053260  ... -0.320943   \n",
       "4 -0.320963 -0.020314  0.015571  0.066347 -0.057467 -0.023384  ...  0.070896   \n",
       "\n",
       "         75        76        77        78        79        80        81  \\\n",
       "0  0.194027  0.932809 -0.151180 -0.920437  0.658286  0.371839  0.260429   \n",
       "1 -0.030206  1.257127 -0.150951 -0.569182 -0.334485 -0.693895  0.260442   \n",
       "2  0.014194 -0.056525  0.080770  0.180448 -0.155493 -0.133816  0.017465   \n",
       "3  0.071502  0.976940 -0.136959 -0.693375  0.180109 -0.088340  0.221852   \n",
       "4 -0.015329 -0.094622  0.132394  0.075702 -0.082091 -0.037054 -0.001519   \n",
       "\n",
       "         82        83        84        85        86        87        88  \\\n",
       "0 -0.732671  1.064488 -0.889954 -0.377993  1.127184  0.148503 -0.264713   \n",
       "1  0.354326  1.111906 -0.451841 -0.211530 -0.035391  0.335656 -1.022827   \n",
       "2  0.262467 -0.138917  0.182677  0.117023 -0.206847 -0.264438  0.025015   \n",
       "3 -0.224743  1.016289 -0.637089 -0.290679  0.518440  0.278134 -0.541450   \n",
       "4  0.086717 -0.105220  0.091713 -0.023012 -0.092844 -0.204815  0.038214   \n",
       "\n",
       "         89        90        91        92        93        94        95  \\\n",
       "0  0.699730 -0.435238 -0.524855 -1.367226  0.711732  0.293495 -0.076114   \n",
       "1  0.665177  0.369128 -0.244392 -0.653423  0.092696  0.209831  0.170478   \n",
       "2 -0.217806 -0.036368  0.266117  0.318718  0.176474 -0.168473 -0.079168   \n",
       "3  0.656286 -0.031764 -0.397421 -0.896058  0.336946  0.225162  0.080042   \n",
       "4 -0.087384 -0.034226  0.227620  0.207186  0.058373 -0.126971 -0.015793   \n",
       "\n",
       "         96        97        98        99  label  \n",
       "0 -0.671457  0.950281 -0.235068 -0.605069  0      \n",
       "1 -0.386429  1.083254  1.092103 -0.546065  0      \n",
       "2 -0.157819 -0.444702  0.095347  0.255459  0      \n",
       "3 -0.527464  1.094042  0.306237 -0.574666  0      \n",
       "4 -0.124108 -0.242137  0.034510  0.243767  1      \n",
       "\n",
       "[5 rows x 101 columns]"
      ]
     },
     "execution_count": 39,
     "metadata": {},
     "output_type": "execute_result"
    }
   ],
   "source": [
    "data.head()"
   ]
  },
  {
   "cell_type": "code",
   "execution_count": 40,
   "metadata": {},
   "outputs": [
    {
     "data": {
      "text/plain": [
       "1    68370\n",
       "0    40276\n",
       "Name: label, dtype: int64"
      ]
     },
     "execution_count": 40,
     "metadata": {},
     "output_type": "execute_result"
    }
   ],
   "source": [
    "data.label.value_counts()"
   ]
  },
  {
   "cell_type": "code",
   "execution_count": 100,
   "metadata": {},
   "outputs": [
    {
     "data": {
      "text/plain": [
       "tags                  2181 \n",
       "content_similarity    32738\n",
       "premium_score         2819 \n",
       "status                1061 \n",
       "platform              3162 \n",
       "story_eyeball         1422 \n",
       "is_private            1061 \n",
       "is_verified           8115 \n",
       "followers_count       1884 \n",
       "eyeball               1420 \n",
       "gender                26835\n",
       "age                   25934\n",
       "dtype: int64"
      ]
     },
     "execution_count": 100,
     "metadata": {},
     "output_type": "execute_result"
    }
   ],
   "source": [
    "data.isna().sum(axis=0)[data.isna().sum(axis=0) != 0][::-1][:]"
   ]
  },
  {
   "cell_type": "code",
   "execution_count": 101,
   "metadata": {},
   "outputs": [],
   "source": [
    "dict_merge = lambda a,b: a.update(b) or a\n",
    "\n",
    "data['age'] = pd.qcut(data.age, q=5).astype(str).apply(lambda x: x.replace('(', '').replace(']', '')).fillna('nan')\n",
    "data['gender'] = data.gender.fillna('nan')\n",
    "data['eyeball'] = data.eyeball.fillna(data.eyeball.mean())\n",
    "data['followers_count'] = data.followers_count.fillna(data.eyeball.mean())\n",
    "data['is_verified'] = data.is_verified.fillna(2).map({False: '0', True: '1', 2: '2'})\n",
    "data['is_private'] = data.is_private.fillna(2).map({False: '0', True: '1', 2: '2'})\n",
    "data['story_eyeball'] = data.story_eyeball.fillna(data.story_eyeball.mean())\n",
    "data['platform'] = data.platform.fillna('nan')\n",
    "data['status'] = data.status.fillna(2).map(dict_merge({i: str(i) for i in range(int(data.status.max()))}, {2: '-1'}))\n",
    "data['premium_score'] = data.premium_score.fillna(data.premium_score.mean())\n",
    "data['content_similarity'] = data.content_similarity.fillna(data.content_similarity.mean())\n",
    "\n",
    "if 'tags' in data.columns:\n",
    "    del data['tags']"
   ]
  },
  {
   "cell_type": "code",
   "execution_count": 41,
   "metadata": {},
   "outputs": [
    {
     "name": "stdout",
     "output_type": "stream",
     "text": [
      "/home/konstantinlipkin/Anaconda_files/ml-utils/helpers/binary_classification\n"
     ]
    }
   ],
   "source": [
    "cd ml-utils/helpers/binary_classification/"
   ]
  },
  {
   "cell_type": "code",
   "execution_count": 42,
   "metadata": {},
   "outputs": [],
   "source": [
    "from dataset import BinaryClassDataset\n",
    "from model_cv import Classification\n",
    "\n",
    "np.random.seed(0)\n",
    "dataset = BinaryClassDataset(\n",
    "    data[-10000:]\n",
    "    #data.sample(10000)\n",
    ")"
   ]
  },
  {
   "cell_type": "code",
   "execution_count": 113,
   "metadata": {},
   "outputs": [
    {
     "name": "stderr",
     "output_type": "stream",
     "text": [
      "100%|██████████| 10/10 [00:00<00:00, 31.29it/s]\n"
     ]
    }
   ],
   "source": [
    "cat_cols = ['age', 'gender', 'is_verified', 'is_private', 'platform', 'status']\n",
    "dataset.one_hot_encoding(cross_prod_dim=2, columns=cat_cols)"
   ]
  },
  {
   "cell_type": "code",
   "execution_count": 43,
   "metadata": {},
   "outputs": [
    {
     "data": {
      "text/plain": [
       "(10000, 100)"
      ]
     },
     "execution_count": 43,
     "metadata": {},
     "output_type": "execute_result"
    }
   ],
   "source": [
    "dataset.X.shape"
   ]
  },
  {
   "cell_type": "code",
   "execution_count": 44,
   "metadata": {},
   "outputs": [
    {
     "data": {
      "text/plain": [
       "1    5801\n",
       "0    4199\n",
       "Name: label, dtype: int64"
      ]
     },
     "execution_count": 44,
     "metadata": {},
     "output_type": "execute_result"
    }
   ],
   "source": [
    "dataset.y.value_counts()"
   ]
  },
  {
   "cell_type": "code",
   "execution_count": 60,
   "metadata": {},
   "outputs": [
    {
     "name": "stdout",
     "output_type": "stream",
     "text": [
      "Fitting 3 folds for each of 2 candidates, totalling 6 fits\n"
     ]
    },
    {
     "name": "stderr",
     "output_type": "stream",
     "text": [
      "/home/konstantinlipkin/anaconda3/lib/python3.8/site-packages/sklearn/model_selection/_search.py:278: UserWarning: The total space of parameters 2 is smaller than n_iter=10. Running 2 iterations. For exhaustive searches, use GridSearchCV.\n",
      "  warnings.warn(\n",
      "[Parallel(n_jobs=-1)]: Using backend LokyBackend with 8 concurrent workers.\n",
      "[Parallel(n_jobs=-1)]: Done   6 out of   6 | elapsed:  3.1min finished\n"
     ]
    },
    {
     "name": "stdout",
     "output_type": "stream",
     "text": [
      "CPU times: user 2min 25s, sys: 875 ms, total: 2min 25s\n",
      "Wall time: 5min 33s\n"
     ]
    }
   ],
   "source": [
    "%%time\n",
    "from sklearn.ensemble import GradientBoostingClassifier, RandomForestClassifier\n",
    "from sklearn.metrics import f1_score, accuracy_score, confusion_matrix, roc_auc_score\n",
    "from sklearn.svm import SVC\n",
    "from sklearn.linear_model import LogisticRegression\n",
    "\n",
    "grid_rf = {\n",
    "    'n_estimators': [200, 250, 300, 400],\n",
    "    'max_depth': [8, 10, 15, 20],\n",
    "    'max_features': ['auto', 0.7, 0.8, 0.9]\n",
    "}\n",
    "\n",
    "grid_rf = {\n",
    "    'n_estimators': [250, 300],\n",
    "    'max_depth': [10],\n",
    "    'max_features': [0.9]\n",
    "}\n",
    "\n",
    "grid_svm = {\n",
    "    'C': [0.5, 1.0, 2]\n",
    "}\n",
    "\n",
    "grid_lr = {\n",
    "    'C': [0.5, 1.0, 2]\n",
    "}\n",
    "\n",
    "#svm = (grid_svm, SVC, probability=True)\n",
    "\n",
    "clf = Classification(lib='sklearn', clf=GradientBoostingClassifier)\n",
    "clf.cross_validation(dataset, randomized=True, param_grid=grid_rf, scoring=roc_auc_score, cv=3, verbose=1)"
   ]
  },
  {
   "cell_type": "code",
   "execution_count": 118,
   "metadata": {},
   "outputs": [],
   "source": [
    "for col in dataset.X.columns:\n",
    "    if col != 'label':\n",
    "        dataset.X[col] = dataset.X[col].astype(float)"
   ]
  },
  {
   "cell_type": "code",
   "execution_count": 45,
   "metadata": {},
   "outputs": [
    {
     "name": "stdout",
     "output_type": "stream",
     "text": [
      "Fitting 3 folds for each of 10 candidates, totalling 30 fits\n"
     ]
    },
    {
     "name": "stderr",
     "output_type": "stream",
     "text": [
      "[Parallel(n_jobs=-1)]: Using backend LokyBackend with 8 concurrent workers.\n",
      "[Parallel(n_jobs=-1)]: Done  30 out of  30 | elapsed:  2.1min finished\n"
     ]
    },
    {
     "name": "stdout",
     "output_type": "stream",
     "text": [
      "CPU times: user 33.6 s, sys: 739 ms, total: 34.4 s\n",
      "Wall time: 2min 35s\n"
     ]
    }
   ],
   "source": [
    "%%time\n",
    "from xgboost import XGBClassifier\n",
    "from sklearn.metrics import f1_score, accuracy_score, confusion_matrix, roc_auc_score\n",
    "\n",
    "grid_xgb = {\n",
    "      'n_estimators': [200, 250, 300, 350],\n",
    "      'learning_rate': [0.02, 0.05, 0.07],\n",
    "      'subsample': [0.8, 0.9, 1.0],\n",
    "      'max_depth': [3, 5, 7, 9],\n",
    "      'colsample_bytree': [0.5, 0.75, 1.0],\n",
    "      'min_child_weight': [1, 2, 3],\n",
    "#      'scale_pos_weight': [0.4, 0.5, 0.6]\n",
    "}\n",
    "\n",
    "clf = Classification(\n",
    "    lib='xgboost', \n",
    "    clf=XGBClassifier, \n",
    "    objective = 'binary:logistic',\n",
    "    n_jobs=-1\n",
    ")\n",
    "\n",
    "clf.cross_validation(\n",
    "    dataset, \n",
    "    randomized=True, \n",
    "    param_grid=grid_xgb, \n",
    "    scoring=roc_auc_score, \n",
    "    cv=3, \n",
    "    verbose=1 \n",
    ")"
   ]
  },
  {
   "cell_type": "code",
   "execution_count": 46,
   "metadata": {},
   "outputs": [
    {
     "data": {
      "text/plain": [
       "{'analyze_data': {'best_estimator': XGBClassifier(base_score=0.5, booster='gbtree', colsample_bylevel=1,\n",
       "                colsample_bynode=1, colsample_bytree=0.75, gamma=0, gpu_id=-1,\n",
       "                importance_type='gain', interaction_constraints='',\n",
       "                learning_rate=0.02, max_delta_step=0, max_depth=9,\n",
       "                min_child_weight=2, missing=nan, monotone_constraints='()',\n",
       "                n_estimators=300, n_jobs=-1, num_parallel_tree=1, random_state=0,\n",
       "                reg_alpha=0, reg_lambda=1, scale_pos_weight=1, subsample=0.9,\n",
       "                tree_method='exact', validate_parameters=1, verbosity=None),\n",
       "  'best_score': 0.6968971656683571,\n",
       "  'best_params_': {'subsample': 0.9,\n",
       "   'n_estimators': 300,\n",
       "   'min_child_weight': 2,\n",
       "   'max_depth': 9,\n",
       "   'learning_rate': 0.02,\n",
       "   'colsample_bytree': 0.75},\n",
       "  'class_balance': 0.58,\n",
       "  'conf_0.2': [[192, 648], [42, 1118]],\n",
       "  'conf_0.3': [[247, 593], [69, 1091]],\n",
       "  'conf_0.4': [[292, 548], [99, 1061]],\n",
       "  'conf_0.5': [[358, 482], [155, 1005]],\n",
       "  'conf_0.6': [[467, 373], [353, 807]],\n",
       "  'accuracy_0.2': 0.655,\n",
       "  'accuracy_0.3': 0.669,\n",
       "  'accuracy_0.4': 0.6765,\n",
       "  'accuracy_0.5': 0.6815,\n",
       "  'accuracy_0.6': 0.637,\n",
       "  'f1_0.2': 0.7641831852358169,\n",
       "  'f1_0.3': 0.7672292545710268,\n",
       "  'f1_0.4': 0.7663416395810762,\n",
       "  'f1_0.5': 0.7593502077823953,\n",
       "  'f1_0.6': 0.6897435897435898}}"
      ]
     },
     "execution_count": 46,
     "metadata": {},
     "output_type": "execute_result"
    }
   ],
   "source": [
    "from sklearn.metrics import f1_score, accuracy_score, confusion_matrix, roc_auc_score\n",
    "\n",
    "metrics = {\n",
    "    'conf': confusion_matrix,\n",
    "    'accuracy': accuracy_score,\n",
    "    'f1': f1_score\n",
    "}\n",
    "\n",
    "thresh_list = [0.2, 0.3, 0.4, 0.5, 0.6]\n",
    "#thresh_list = [0.4, 0.5, 0.6, 0.7, 0.8]\n",
    "\n",
    "result = clf.get_result(metrics=metrics, thresh_list=thresh_list)\n",
    "result"
   ]
  },
  {
   "cell_type": "code",
   "execution_count": 74,
   "metadata": {},
   "outputs": [
    {
     "data": {
      "text/plain": [
       "{'analyze_data': {'best_estimator': XGBClassifier(base_score=0.5, booster='gbtree', colsample_bylevel=1,\n",
       "                colsample_bynode=1, colsample_bytree=1.0, gamma=0, gpu_id=-1,\n",
       "                importance_type='gain', interaction_constraints='',\n",
       "                learning_rate=0.05, max_delta_step=0, max_depth=3,\n",
       "                min_child_weight=3, missing=nan, monotone_constraints='()',\n",
       "                n_estimators=200, n_jobs=-1, num_parallel_tree=1, random_state=0,\n",
       "                reg_alpha=0, reg_lambda=1, scale_pos_weight=1, subsample=0.9,\n",
       "                tree_method='exact', validate_parameters=1, verbosity=None),\n",
       "  'best_score': 0.7187081706952391,\n",
       "  'best_params_': {'subsample': 0.9,\n",
       "   'n_estimators': 200,\n",
       "   'min_child_weight': 3,\n",
       "   'max_depth': 3,\n",
       "   'learning_rate': 0.05,\n",
       "   'colsample_bytree': 1.0},\n",
       "  'class_balance': 0.58,\n",
       "  'conf_0.2': [[162, 678], [27, 1133]],\n",
       "  'conf_0.3': [[235, 605], [50, 1110]],\n",
       "  'conf_0.4': [[314, 526], [94, 1066]],\n",
       "  'conf_0.5': [[391, 449], [160, 1000]],\n",
       "  'conf_0.6': [[523, 317], [396, 764]],\n",
       "  'accuracy_0.2': 0.6475,\n",
       "  'accuracy_0.3': 0.6725,\n",
       "  'accuracy_0.4': 0.69,\n",
       "  'accuracy_0.5': 0.6955,\n",
       "  'accuracy_0.6': 0.6435,\n",
       "  'f1_0.2': 0.7627061595422416,\n",
       "  'f1_0.3': 0.7721739130434783,\n",
       "  'f1_0.4': 0.7747093023255814,\n",
       "  'f1_0.5': 0.76657723265619,\n",
       "  'f1_0.6': 0.6818384649709951}}"
      ]
     },
     "execution_count": 74,
     "metadata": {},
     "output_type": "execute_result"
    }
   ],
   "source": [
    "from sklearn.metrics import f1_score, accuracy_score, confusion_matrix, roc_auc_score\n",
    "\n",
    "metrics = {\n",
    "    'conf': confusion_matrix,\n",
    "    'accuracy': accuracy_score,\n",
    "    'f1': f1_score\n",
    "}\n",
    "\n",
    "thresh_list = [0.2, 0.3, 0.4, 0.5, 0.6]\n",
    "#thresh_list = [0.4, 0.5, 0.6, 0.7, 0.8]\n",
    "\n",
    "result = clf.get_result(metrics=metrics, thresh_list=thresh_list)\n",
    "result"
   ]
  },
  {
   "cell_type": "code",
   "execution_count": null,
   "metadata": {},
   "outputs": [],
   "source": []
  }
 ],
 "metadata": {
  "kernelspec": {
   "display_name": "Python 3",
   "language": "python",
   "name": "python3"
  },
  "language_info": {
   "codemirror_mode": {
    "name": "ipython",
    "version": 3
   },
   "file_extension": ".py",
   "mimetype": "text/x-python",
   "name": "python",
   "nbconvert_exporter": "python",
   "pygments_lexer": "ipython3",
   "version": "3.8.3"
  }
 },
 "nbformat": 4,
 "nbformat_minor": 4
}
